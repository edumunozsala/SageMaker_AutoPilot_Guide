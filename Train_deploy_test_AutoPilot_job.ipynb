{
 "cells": [
  {
   "cell_type": "markdown",
   "metadata": {},
   "source": [
    "# Training, deploying and testing a SageMaker AutoPilot job\n",
    "\n",
    "In this example notebook we are going to train an AutoPilot job to create a multiclass classification problem. \n",
    "\n",
    "## Why AutoML?\n",
    "In many use cases and scenarios machine learning is a great tool for some key users but they probably are not ready to apply it. Their knowledge on the problem and the data can be very rich and can produce very helpful insights for businesses, but they do not know enough about ML methodology nor feature engineering to work in a machine learning workflow. AutoML will help them to extend their knowledge domain, allowing them to apply some classification or regression models on a dataset and reaching some good results with no relevant effort. \n",
    "\n",
    "AutoML is related to produce machine learning solutions without doing data science tasks like data processing, feature selection, model selection, model training and deploying. Some AutoML tools are intended to boost the performence of our ML experiments on a dataset, using very advanced techniques and data preprocessing tasks but some others are focused on bringing the ML experience to a user in just a few clicks producing an initial model, a baseline model. But later the user or a more advanced user can improve the ML workflow and compare the performance of new experiments to the baseline model.\n",
    "\n",
    "As machine learning is getting more and more attention, these tools have become a must in the portfolio of the great tech companies like Amazon Web Services.\n",
    "\n",
    "## Introduction about Amazon SageMaker AutoPilot\n",
    "Amazon SageMaker package contains the AutoPilot toolkit, a very easy and simple framework to launch AutoML projects. You just need a bunch of data files, choose your target feature and wait for AutoPilot to process your data and return a predictive model with a good enough performance. Even you can deploy the model in one click, providing your users with a REST service to test your solution.\n",
    "\n",
    "One of the most interesting features of AutoPilot is the **visibility in the data processing and model tuning stages** it provides. You can get two notebooks: one for the data analysis and another one for data processing, model building and tuning process. As a result, you can analyze and include your own techniques or knowledge to the notebooks and even run your own experiments trying to outperform the results."
   ]
  },
  {
   "cell_type": "markdown",
   "metadata": {},
   "source": [
    "Previously we trained a job using the SageMaker Studio UI, where in a few clicks we launch a training job. SageMaker analysed the data, create different preprocessed datasets and tune some models to obtain a classifier with a really good performance."
   ]
  },
  {
   "cell_type": "markdown",
   "metadata": {},
   "source": [
    "### Importing the libraries"
   ]
  },
  {
   "cell_type": "code",
   "execution_count": 1,
   "metadata": {},
   "outputs": [
    {
     "name": "stdout",
     "output_type": "stream",
     "text": [
      "2.41.0\n"
     ]
    }
   ],
   "source": [
    "import sagemaker\n",
    "from sagemaker.automl.automl import AutoML, AutoMLInput\n",
    "\n",
    "print (sagemaker.__version__)\n",
    "\n",
    "import pandas as pd"
   ]
  },
  {
   "cell_type": "markdown",
   "metadata": {},
   "source": [
    "### Exploring the dataset\n",
    "\n",
    "Our dataset is already stored in S3 but we will take a look to the train dataset to get some insights"
   ]
  },
  {
   "cell_type": "code",
   "execution_count": 2,
   "metadata": {},
   "outputs": [
    {
     "data": {
      "text/html": [
       "<div>\n",
       "<style scoped>\n",
       "    .dataframe tbody tr th:only-of-type {\n",
       "        vertical-align: middle;\n",
       "    }\n",
       "\n",
       "    .dataframe tbody tr th {\n",
       "        vertical-align: top;\n",
       "    }\n",
       "\n",
       "    .dataframe thead th {\n",
       "        text-align: right;\n",
       "    }\n",
       "</style>\n",
       "<table border=\"1\" class=\"dataframe\">\n",
       "  <thead>\n",
       "    <tr style=\"text-align: right;\">\n",
       "      <th></th>\n",
       "      <th>age</th>\n",
       "      <th>duration</th>\n",
       "      <th>campaign</th>\n",
       "      <th>pdays</th>\n",
       "      <th>previous</th>\n",
       "      <th>emp.var.rate</th>\n",
       "      <th>cons.price.idx</th>\n",
       "      <th>cons.conf.idx</th>\n",
       "      <th>euribor3m</th>\n",
       "      <th>nr.employed</th>\n",
       "    </tr>\n",
       "  </thead>\n",
       "  <tbody>\n",
       "    <tr>\n",
       "      <th>count</th>\n",
       "      <td>38098.000000</td>\n",
       "      <td>38098.000000</td>\n",
       "      <td>38098.000000</td>\n",
       "      <td>38098.000000</td>\n",
       "      <td>38098.000000</td>\n",
       "      <td>38098.000000</td>\n",
       "      <td>38098.000000</td>\n",
       "      <td>38098.000000</td>\n",
       "      <td>38098.000000</td>\n",
       "      <td>38098.000000</td>\n",
       "    </tr>\n",
       "    <tr>\n",
       "      <th>mean</th>\n",
       "      <td>40.027875</td>\n",
       "      <td>258.127566</td>\n",
       "      <td>2.562129</td>\n",
       "      <td>962.300987</td>\n",
       "      <td>0.173474</td>\n",
       "      <td>0.083332</td>\n",
       "      <td>93.576648</td>\n",
       "      <td>-40.503958</td>\n",
       "      <td>3.621932</td>\n",
       "      <td>5167.026925</td>\n",
       "    </tr>\n",
       "    <tr>\n",
       "      <th>std</th>\n",
       "      <td>10.415106</td>\n",
       "      <td>259.071023</td>\n",
       "      <td>2.756325</td>\n",
       "      <td>187.342349</td>\n",
       "      <td>0.496900</td>\n",
       "      <td>1.569926</td>\n",
       "      <td>0.578445</td>\n",
       "      <td>4.622299</td>\n",
       "      <td>1.734393</td>\n",
       "      <td>72.294845</td>\n",
       "    </tr>\n",
       "    <tr>\n",
       "      <th>min</th>\n",
       "      <td>17.000000</td>\n",
       "      <td>0.000000</td>\n",
       "      <td>1.000000</td>\n",
       "      <td>0.000000</td>\n",
       "      <td>0.000000</td>\n",
       "      <td>-3.400000</td>\n",
       "      <td>92.201000</td>\n",
       "      <td>-50.800000</td>\n",
       "      <td>0.634000</td>\n",
       "      <td>4963.600000</td>\n",
       "    </tr>\n",
       "    <tr>\n",
       "      <th>25%</th>\n",
       "      <td>32.000000</td>\n",
       "      <td>102.000000</td>\n",
       "      <td>1.000000</td>\n",
       "      <td>999.000000</td>\n",
       "      <td>0.000000</td>\n",
       "      <td>-1.800000</td>\n",
       "      <td>93.075000</td>\n",
       "      <td>-42.700000</td>\n",
       "      <td>1.344000</td>\n",
       "      <td>5099.100000</td>\n",
       "    </tr>\n",
       "    <tr>\n",
       "      <th>50%</th>\n",
       "      <td>38.000000</td>\n",
       "      <td>180.000000</td>\n",
       "      <td>2.000000</td>\n",
       "      <td>999.000000</td>\n",
       "      <td>0.000000</td>\n",
       "      <td>1.100000</td>\n",
       "      <td>93.749000</td>\n",
       "      <td>-41.800000</td>\n",
       "      <td>4.857000</td>\n",
       "      <td>5191.000000</td>\n",
       "    </tr>\n",
       "    <tr>\n",
       "      <th>75%</th>\n",
       "      <td>47.000000</td>\n",
       "      <td>319.000000</td>\n",
       "      <td>3.000000</td>\n",
       "      <td>999.000000</td>\n",
       "      <td>0.000000</td>\n",
       "      <td>1.400000</td>\n",
       "      <td>93.994000</td>\n",
       "      <td>-36.400000</td>\n",
       "      <td>4.961000</td>\n",
       "      <td>5228.100000</td>\n",
       "    </tr>\n",
       "    <tr>\n",
       "      <th>max</th>\n",
       "      <td>98.000000</td>\n",
       "      <td>4918.000000</td>\n",
       "      <td>56.000000</td>\n",
       "      <td>999.000000</td>\n",
       "      <td>7.000000</td>\n",
       "      <td>1.400000</td>\n",
       "      <td>94.767000</td>\n",
       "      <td>-26.900000</td>\n",
       "      <td>5.045000</td>\n",
       "      <td>5228.100000</td>\n",
       "    </tr>\n",
       "  </tbody>\n",
       "</table>\n",
       "</div>"
      ],
      "text/plain": [
       "                age      duration      campaign         pdays      previous  \\\n",
       "count  38098.000000  38098.000000  38098.000000  38098.000000  38098.000000   \n",
       "mean      40.027875    258.127566      2.562129    962.300987      0.173474   \n",
       "std       10.415106    259.071023      2.756325    187.342349      0.496900   \n",
       "min       17.000000      0.000000      1.000000      0.000000      0.000000   \n",
       "25%       32.000000    102.000000      1.000000    999.000000      0.000000   \n",
       "50%       38.000000    180.000000      2.000000    999.000000      0.000000   \n",
       "75%       47.000000    319.000000      3.000000    999.000000      0.000000   \n",
       "max       98.000000   4918.000000     56.000000    999.000000      7.000000   \n",
       "\n",
       "       emp.var.rate  cons.price.idx  cons.conf.idx     euribor3m   nr.employed  \n",
       "count  38098.000000    38098.000000   38098.000000  38098.000000  38098.000000  \n",
       "mean       0.083332       93.576648     -40.503958      3.621932   5167.026925  \n",
       "std        1.569926        0.578445       4.622299      1.734393     72.294845  \n",
       "min       -3.400000       92.201000     -50.800000      0.634000   4963.600000  \n",
       "25%       -1.800000       93.075000     -42.700000      1.344000   5099.100000  \n",
       "50%        1.100000       93.749000     -41.800000      4.857000   5191.000000  \n",
       "75%        1.400000       93.994000     -36.400000      4.961000   5228.100000  \n",
       "max        1.400000       94.767000     -26.900000      5.045000   5228.100000  "
      ]
     },
     "execution_count": 2,
     "metadata": {},
     "output_type": "execute_result"
    }
   ],
   "source": [
    "train_df= pd.read_csv('train_full.csv', header=0)\n",
    "train_df.describe()"
   ]
  },
  {
   "cell_type": "markdown",
   "metadata": {},
   "source": [
    "Lets check if the dataset is balanced, but we guessed it is not balanced. This is an de facto example of unbalanced dataset: predict if a bank client will subscribe a deposit."
   ]
  },
  {
   "cell_type": "code",
   "execution_count": 3,
   "metadata": {},
   "outputs": [
    {
     "data": {
      "text/plain": [
       "Text(0, 0.5, 'Count')"
      ]
     },
     "execution_count": 3,
     "metadata": {},
     "output_type": "execute_result"
    },
    {
     "data": {
      "image/png": "[encoded data removed]",
      "text/plain": [
       "<Figure size 432x288 with 1 Axes>"
      ]
     },
     "metadata": {
      "image/png": {
       "height": 285,
       "width": 401
      },
      "needs_background": "light"
     },
     "output_type": "display_data"
    }
   ],
   "source": [
    "import matplotlib.pyplot as plt\n",
    "\n",
    "%matplotlib inline\n",
    "%config InlineBackend.figure_format='retina'\n",
    "\n",
    "train_df[[\"y\", \"age\"]].groupby(\"y\").count().plot(kind=\"bar\", title=\"Breakdown by y\")\n",
    "plt.xlabel(\"y\")\n",
    "plt.ylabel(\"Count\")"
   ]
  },
  {
   "cell_type": "markdown",
   "metadata": {},
   "source": [
    "We are not going to deal with this issue, we want to explore the capabilities of SageMaker AutoPilot even with this kind of datasets."
   ]
  },
  {
   "cell_type": "markdown",
   "metadata": {},
   "source": [
    "## Setting up the SageMaker AutoPilot job\n",
    "Once the dataset is uploaded to S3, we can define a SageMaker AutoPilot job to find the best ML pipeline to train a model on this dataset.\n",
    "\n",
    "The required inputs for invoking a SageMaker AutoML job are the dataset location in S3, the name of the column of the dataset you want to predict (y in this case) and an IAM role"
   ]
  },
  {
   "cell_type": "code",
   "execution_count": 10,
   "metadata": {},
   "outputs": [
    {
     "name": "stdout",
     "output_type": "stream",
     "text": [
      "s3://learn-sagemaker/bank_marketing/train\n",
      "s3://learn-sagemaker/bank_marketing/sdk-output\n"
     ]
    }
   ],
   "source": [
    "sess   = sagemaker.Session()\n",
    "role = sagemaker.get_execution_role()\n",
    "bucket = 'learn-sagemaker'                     \n",
    "prefix = 'bank_marketing'\n",
    "input_path = 's3://{}/{}/train'.format(bucket,prefix)\n",
    "output_path = 's3://{}/{}/sdk-output'.format(bucket,prefix)\n",
    "print(input_path)\n",
    "print(output_path)"
   ]
  },
  {
   "cell_type": "code",
   "execution_count": 11,
   "metadata": {},
   "outputs": [],
   "source": [
    "auto_ml_job = AutoML(\n",
    "    role = role,                                              # IAM permissions for SageMaker\n",
    "    sagemaker_session = sess,                                 # Session\n",
    "    target_attribute_name = 'y',                              # The column we want to predict\n",
    "    output_path = output_path,                                # Save artifacts here\n",
    "    max_runtime_per_training_job_in_seconds = 600,\n",
    "    max_candidates = 50,\n",
    "    total_job_runtime_in_seconds = 1800,\n",
    "    generate_candidate_definitions_only=False,\n",
    "    problem_type=None\n",
    ")"
   ]
  },
  {
   "cell_type": "markdown",
   "metadata": {},
   "source": [
    "We can now launch the job by calling the fit() API, setting the input data and the job name."
   ]
  },
  {
   "cell_type": "code",
   "execution_count": 12,
   "metadata": {},
   "outputs": [],
   "source": [
    "s3_input_data = AutoMLInput(input_path, 'y', compression=None)"
   ]
  },
  {
   "cell_type": "code",
   "execution_count": 13,
   "metadata": {},
   "outputs": [],
   "source": [
    "auto_ml_job.fit(inputs=s3_input_data, logs=False, wait=False, job_name='bank-marketing-sdk')"
   ]
  },
  {
   "cell_type": "markdown",
   "metadata": {},
   "source": [
    "Show the job properties"
   ]
  },
  {
   "cell_type": "code",
   "execution_count": 14,
   "metadata": {},
   "outputs": [
    {
     "name": "stdout",
     "output_type": "stream",
     "text": [
      "{'AutoMLJobName': 'bank-marketing-sdk', 'AutoMLJobArn': 'arn:aws:sagemaker:us-east-2:223817798831:automl-job/bank-marketing-sdk', 'InputDataConfig': [{'DataSource': {'S3DataSource': {'S3DataType': 'S3Prefix', 'S3Uri': 's3://learn-sagemaker/bank_marketing/train'}}, 'TargetAttributeName': 'y'}], 'OutputDataConfig': {'S3OutputPath': 's3://learn-sagemaker/bank_marketing/sdk-output'}, 'RoleArn': 'arn:aws:iam::223817798831:role/service-role/AmazonSageMaker-ExecutionRole-20210510T201989', 'AutoMLJobConfig': {'CompletionCriteria': {'MaxCandidates': 50, 'MaxRuntimePerTrainingJobInSeconds': 600, 'MaxAutoMLJobRuntimeInSeconds': 1800}, 'SecurityConfig': {'EnableInterContainerTrafficEncryption': False}}, 'CreationTime': datetime.datetime(2021, 6, 20, 16, 50, 13, 140000, tzinfo=tzlocal()), 'LastModifiedTime': datetime.datetime(2021, 6, 20, 16, 51, 25, 741000, tzinfo=tzlocal()), 'AutoMLJobStatus': 'InProgress', 'AutoMLJobSecondaryStatus': 'AnalyzingData', 'GenerateCandidateDefinitionsOnly': False, 'ResponseMetadata': {'RequestId': '7e0efb24-06d3-46a6-b73d-0307b70bd5d4', 'HTTPStatusCode': 200, 'HTTPHeaders': {'x-amzn-requestid': '7e0efb24-06d3-46a6-b73d-0307b70bd5d4', 'content-type': 'application/x-amz-json-1.1', 'content-length': '854', 'date': 'Sun, 20 Jun 2021 16:51:26 GMT'}, 'RetryAttempts': 0}}\n"
     ]
    }
   ],
   "source": [
    "job = auto_ml_job.describe_auto_ml_job()\n",
    "print(job)"
   ]
  },
  {
   "cell_type": "markdown",
   "metadata": {},
   "source": [
    "Once feature engineering is complete, some different candidate models are tuned. While model tuning is running, we can explore its progress with SageMaker Experiments."
   ]
  },
  {
   "cell_type": "code",
   "execution_count": null,
   "metadata": {},
   "outputs": [],
   "source": [
    "from sagemaker.analytics import ExperimentAnalytics\n",
    "\n",
    "exp = ExperimentAnalytics(\n",
    "    sagemaker_session=sess, \n",
    "    experiment_name=job['AutoMLJobName'] + '-aws-auto-ml-job'\n",
    ")\n",
    "\n",
    "df = exp.dataframe()\n",
    "print(\"Number of jobs: \", len(df))\n",
    "\n",
    "# Move metric to first column\n",
    "df = pd.concat([df['ObjectiveMetric - Max'], df.drop(['ObjectiveMetric - Max'], axis=1)], axis=1)\n",
    "# Show top 5 jobs\n",
    "df.sort_values('ObjectiveMetric - Max', ascending=0)[:5]"
   ]
  },
  {
   "cell_type": "markdown",
   "metadata": {},
   "source": [
    "## Deploying and testing the best candidate\n",
    "\n",
    "Now that we have successfully completed the AutoPilot job, we can create a model from any of the trials with a single API call and then deploy that model for online or batch prediction. In this notebook, we deploy only the best performing model for inference.\n",
    "\n",
    "The best candidate is the one we're really interested in.\n"
   ]
  },
  {
   "cell_type": "markdown",
   "metadata": {},
   "source": [
    "Create the SageMaker session"
   ]
  },
  {
   "cell_type": "code",
   "execution_count": 17,
   "metadata": {},
   "outputs": [],
   "source": [
    "sess   = sagemaker.Session()"
   ]
  },
  {
   "cell_type": "markdown",
   "metadata": {},
   "source": [
    "View the AutoPilot job name you want to retrive the best performing model from the Experiments console and attach it a automl job variable"
   ]
  },
  {
   "cell_type": "code",
   "execution_count": 18,
   "metadata": {},
   "outputs": [],
   "source": [
    "auto_ml_job_name = 'bank-marketing'"
   ]
  },
  {
   "cell_type": "code",
   "execution_count": 19,
   "metadata": {},
   "outputs": [
    {
     "data": {
      "text/plain": [
       "{'AutoMLJobName': 'bank-marketing',\n",
       " 'AutoMLJobArn': 'arn:aws:sagemaker:us-east-2:223817798831:automl-job/bank-marketing',\n",
       " 'InputDataConfig': [{'DataSource': {'S3DataSource': {'S3DataType': 'S3Prefix',\n",
       "     'S3Uri': 's3://learn-sagemaker/bank_marketing/train/train_full.csv'}},\n",
       "   'TargetAttributeName': 'y'}],\n",
       " 'OutputDataConfig': {'S3OutputPath': 's3://learn-sagemaker/bank_marketing/autopilot-outputs/'},\n",
       " 'RoleArn': 'arn:aws:iam::223817798831:role/service-role/AmazonSageMaker-ExecutionRole-20210510T201989',\n",
       " 'AutoMLJobObjective': {'MetricName': 'F1'},\n",
       " 'ProblemType': 'BinaryClassification',\n",
       " 'AutoMLJobConfig': {'CompletionCriteria': {'MaxRuntimePerTrainingJobInSeconds': 3600}},\n",
       " 'CreationTime': datetime.datetime(2021, 5, 30, 9, 48, 5, 325000, tzinfo=tzlocal()),\n",
       " 'EndTime': datetime.datetime(2021, 5, 30, 12, 21, 27, 864000, tzinfo=tzlocal()),\n",
       " 'LastModifiedTime': datetime.datetime(2021, 5, 30, 12, 21, 27, 898000, tzinfo=tzlocal()),\n",
       " 'BestCandidate': {'CandidateName': 'tuning-job-1-e36cc453689b4e9498-146-f5eacb03',\n",
       "  'FinalAutoMLJobObjectiveMetric': {'MetricName': 'validation:f1',\n",
       "   'Value': 0.7900699973106384},\n",
       "  'ObjectiveStatus': 'Succeeded',\n",
       "  'CandidateSteps': [{'CandidateStepType': 'AWS::SageMaker::ProcessingJob',\n",
       "    'CandidateStepArn': 'arn:aws:sagemaker:us-east-2:223817798831:processing-job/bank-marketing-db-1-e3ffb2f4577e494180ee799b2581b48976824531f34',\n",
       "    'CandidateStepName': 'bank-marketing-db-1-e3ffb2f4577e494180ee799b2581b48976824531f34'},\n",
       "   {'CandidateStepType': 'AWS::SageMaker::TrainingJob',\n",
       "    'CandidateStepArn': 'arn:aws:sagemaker:us-east-2:223817798831:training-job/bank-marketing-dpp3-1-dd81a407dad8478196ea5f0663d127a94ee617472',\n",
       "    'CandidateStepName': 'bank-marketing-dpp3-1-dd81a407dad8478196ea5f0663d127a94ee617472'},\n",
       "   {'CandidateStepType': 'AWS::SageMaker::TransformJob',\n",
       "    'CandidateStepArn': 'arn:aws:sagemaker:us-east-2:223817798831:transform-job/bank-marketing-dpp3-csv-1-4de06a9156524abdb36e38677c7efea317d1f',\n",
       "    'CandidateStepName': 'bank-marketing-dpp3-csv-1-4de06a9156524abdb36e38677c7efea317d1f'},\n",
       "   {'CandidateStepType': 'AWS::SageMaker::TrainingJob',\n",
       "    'CandidateStepArn': 'arn:aws:sagemaker:us-east-2:223817798831:training-job/tuning-job-1-e36cc453689b4e9498-146-f5eacb03',\n",
       "    'CandidateStepName': 'tuning-job-1-e36cc453689b4e9498-146-f5eacb03'}],\n",
       "  'CandidateStatus': 'Completed',\n",
       "  'InferenceContainers': [{'Image': '257758044811.dkr.ecr.us-east-2.amazonaws.com/sagemaker-sklearn-automl:0.2-1-cpu-py3',\n",
       "    'ModelDataUrl': 's3://learn-sagemaker/bank_marketing/autopilot-outputs/bank-marketing/data-processor-models/bank-marketing-dpp3-1-dd81a407dad8478196ea5f0663d127a94ee617472/output/model.tar.gz',\n",
       "    'Environment': {'AUTOML_TRANSFORM_MODE': 'feature-transform',\n",
       "     'SAGEMAKER_DEFAULT_INVOCATIONS_ACCEPT': 'application/x-recordio-protobuf',\n",
       "     'SAGEMAKER_PROGRAM': 'sagemaker_serve',\n",
       "     'SAGEMAKER_SUBMIT_DIRECTORY': '/opt/ml/model/code'}},\n",
       "   {'Image': '257758044811.dkr.ecr.us-east-2.amazonaws.com/sagemaker-xgboost:1.2-2-cpu-py3',\n",
       "    'ModelDataUrl': 's3://learn-sagemaker/bank_marketing/autopilot-outputs/bank-marketing/tuning/bank-marke-dpp3-xgb/tuning-job-1-e36cc453689b4e9498-146-f5eacb03/output/model.tar.gz',\n",
       "    'Environment': {'MAX_CONTENT_LENGTH': '20971520',\n",
       "     'SAGEMAKER_DEFAULT_INVOCATIONS_ACCEPT': 'text/csv',\n",
       "     'SAGEMAKER_INFERENCE_OUTPUT': 'predicted_label',\n",
       "     'SAGEMAKER_INFERENCE_SUPPORTED': 'predicted_label,probability,probabilities'}},\n",
       "   {'Image': '257758044811.dkr.ecr.us-east-2.amazonaws.com/sagemaker-sklearn-automl:0.2-1-cpu-py3',\n",
       "    'ModelDataUrl': 's3://learn-sagemaker/bank_marketing/autopilot-outputs/bank-marketing/data-processor-models/bank-marketing-dpp3-1-dd81a407dad8478196ea5f0663d127a94ee617472/output/model.tar.gz',\n",
       "    'Environment': {'AUTOML_TRANSFORM_MODE': 'inverse-label-transform',\n",
       "     'SAGEMAKER_DEFAULT_INVOCATIONS_ACCEPT': 'text/csv',\n",
       "     'SAGEMAKER_INFERENCE_INPUT': 'predicted_label',\n",
       "     'SAGEMAKER_INFERENCE_OUTPUT': 'predicted_label',\n",
       "     'SAGEMAKER_INFERENCE_SUPPORTED': 'predicted_label,probability,labels,probabilities',\n",
       "     'SAGEMAKER_PROGRAM': 'sagemaker_serve',\n",
       "     'SAGEMAKER_SUBMIT_DIRECTORY': '/opt/ml/model/code'}}],\n",
       "  'CreationTime': datetime.datetime(2021, 5, 30, 11, 20, 46, tzinfo=tzlocal()),\n",
       "  'EndTime': datetime.datetime(2021, 5, 30, 11, 23, 36, tzinfo=tzlocal()),\n",
       "  'LastModifiedTime': datetime.datetime(2021, 5, 30, 12, 21, 26, 999000, tzinfo=tzlocal())},\n",
       " 'AutoMLJobStatus': 'Stopped',\n",
       " 'AutoMLJobSecondaryStatus': 'Stopped',\n",
       " 'GenerateCandidateDefinitionsOnly': False,\n",
       " 'AutoMLJobArtifacts': {'CandidateDefinitionNotebookLocation': 's3://learn-sagemaker/bank_marketing/autopilot-outputs/bank-marketing/sagemaker-automl-candidates/bank-marketing-pr-1-677284a145284181a6c7f80240cca6bcabe8c7ff49c/notebooks/SageMakerAutopilotCandidateDefinitionNotebook.ipynb',\n",
       "  'DataExplorationNotebookLocation': 's3://learn-sagemaker/bank_marketing/autopilot-outputs/bank-marketing/sagemaker-automl-candidates/bank-marketing-pr-1-677284a145284181a6c7f80240cca6bcabe8c7ff49c/notebooks/SageMakerAutopilotDataExplorationNotebook.ipynb'},\n",
       " 'ResolvedAttributes': {'AutoMLJobObjective': {'MetricName': 'F1'},\n",
       "  'ProblemType': 'BinaryClassification',\n",
       "  'CompletionCriteria': {'MaxCandidates': 250,\n",
       "   'MaxRuntimePerTrainingJobInSeconds': 3600,\n",
       "   'MaxAutoMLJobRuntimeInSeconds': 2592000}},\n",
       " 'ResponseMetadata': {'RequestId': '07558e79-661a-429c-8d37-6788e0b4297b',\n",
       "  'HTTPStatusCode': 200,\n",
       "  'HTTPHeaders': {'x-amzn-requestid': '07558e79-661a-429c-8d37-6788e0b4297b',\n",
       "   'content-type': 'application/x-amz-json-1.1',\n",
       "   'content-length': '4716',\n",
       "   'date': 'Sun, 20 Jun 2021 16:59:33 GMT'},\n",
       "  'RetryAttempts': 0}}"
      ]
     },
     "execution_count": 19,
     "metadata": {},
     "output_type": "execute_result"
    }
   ],
   "source": [
    "# Select the AutmoML job you want to restore\n",
    "auto_ml_job_name = 'bank-marketing'\n",
    "# Attach it to the AutoML object\n",
    "auto_ml_job = AutoML.attach(auto_ml_job_name, sagemaker_session=sess)\n",
    "# Describe the AutoML job\n",
    "auto_ml_job.describe_auto_ml_job()"
   ]
  },
  {
   "cell_type": "markdown",
   "metadata": {},
   "source": [
    "List the model candidates selected for this experiment"
   ]
  },
  {
   "cell_type": "code",
   "execution_count": 16,
   "metadata": {},
   "outputs": [],
   "source": [
    "# To List model candidates\n",
    "#auto_ml_job.list_candidates()"
   ]
  },
  {
   "cell_type": "markdown",
   "metadata": {},
   "source": [
    "Extract the best candidate and show its properties"
   ]
  },
  {
   "cell_type": "code",
   "execution_count": 20,
   "metadata": {},
   "outputs": [
    {
     "name": "stdout",
     "output_type": "stream",
     "text": [
      "tuning-job-1-e36cc453689b4e9498-146-f5eacb03\n",
      "{'MetricName': 'validation:f1', 'Value': 0.7900699973106384}\n"
     ]
    }
   ],
   "source": [
    "job_best_candidate = auto_ml_job.best_candidate()\n",
    "print(job_best_candidate['CandidateName'])\n",
    "print(job_best_candidate['FinalAutoMLJobObjectiveMetric'])"
   ]
  },
  {
   "cell_type": "markdown",
   "metadata": {},
   "source": [
    "## Deploy the endpoint for the best candidate model"
   ]
  },
  {
   "cell_type": "markdown",
   "metadata": {},
   "source": [
    "Set the endpoint name, adding a timestamp to the automl job name, now it is unique and can be deployed."
   ]
  },
  {
   "cell_type": "code",
   "execution_count": 21,
   "metadata": {},
   "outputs": [
    {
     "name": "stdout",
     "output_type": "stream",
     "text": [
      "Endpoint:  bank-marketing-20-17-00-48\n"
     ]
    }
   ],
   "source": [
    "from time import strftime, gmtime\n",
    "\n",
    "timestamp = strftime('%d-%H-%M-%S', gmtime())\n",
    "\n",
    "endpoint_name = auto_ml_job_name+'-'+timestamp\n",
    "print('Endpoint: ',endpoint_name)"
   ]
  },
  {
   "cell_type": "markdown",
   "metadata": {},
   "source": [
    "Now, we can deploy the endpoint containing our best candidate model"
   ]
  },
  {
   "cell_type": "code",
   "execution_count": 22,
   "metadata": {},
   "outputs": [
    {
     "name": "stdout",
     "output_type": "stream",
     "text": [
      "-----------------!"
     ]
    }
   ],
   "source": [
    "auto_ml_job.deploy(\n",
    "    initial_instance_count = 1,\n",
    "    instance_type = 'ml.t2.medium',\n",
    "    endpoint_name = endpoint_name\n",
    ")"
   ]
  },
  {
   "cell_type": "markdown",
   "metadata": {},
   "source": [
    "## Testing the best candidate model\n",
    "\n",
    "Let's predict some test examples to test that our model endpoint is working fine. Our test dataset contains 3.090 rows or examples. It is not a great deal to handle this count of examples just invoking the endpoint. When we need to predict much more examples we should call a Batch Transform job."
   ]
  },
  {
   "cell_type": "markdown",
   "metadata": {},
   "source": [
    "To evaluate the model performance we load a test dataset and will make predictions on its examples, then we will calculate the performance metrics like accuracy or precision or recall."
   ]
  },
  {
   "cell_type": "markdown",
   "metadata": {},
   "source": [
    "First, we load the test dataset into a Dataframe and drop the target column."
   ]
  },
  {
   "cell_type": "code",
   "execution_count": 23,
   "metadata": {},
   "outputs": [
    {
     "data": {
      "text/html": [
       "<div>\n",
       "<style scoped>\n",
       "    .dataframe tbody tr th:only-of-type {\n",
       "        vertical-align: middle;\n",
       "    }\n",
       "\n",
       "    .dataframe tbody tr th {\n",
       "        vertical-align: top;\n",
       "    }\n",
       "\n",
       "    .dataframe thead th {\n",
       "        text-align: right;\n",
       "    }\n",
       "</style>\n",
       "<table border=\"1\" class=\"dataframe\">\n",
       "  <thead>\n",
       "    <tr style=\"text-align: right;\">\n",
       "      <th></th>\n",
       "      <th>age</th>\n",
       "      <th>job</th>\n",
       "      <th>marital</th>\n",
       "      <th>education</th>\n",
       "      <th>default</th>\n",
       "      <th>housing</th>\n",
       "      <th>loan</th>\n",
       "      <th>contact</th>\n",
       "      <th>month</th>\n",
       "      <th>day_of_week</th>\n",
       "      <th>duration</th>\n",
       "      <th>campaign</th>\n",
       "      <th>pdays</th>\n",
       "      <th>previous</th>\n",
       "      <th>poutcome</th>\n",
       "      <th>emp.var.rate</th>\n",
       "      <th>cons.price.idx</th>\n",
       "      <th>cons.conf.idx</th>\n",
       "      <th>euribor3m</th>\n",
       "      <th>nr.employed</th>\n",
       "    </tr>\n",
       "  </thead>\n",
       "  <tbody>\n",
       "    <tr>\n",
       "      <th>0</th>\n",
       "      <td>41</td>\n",
       "      <td>services</td>\n",
       "      <td>married</td>\n",
       "      <td>high.school</td>\n",
       "      <td>unknown</td>\n",
       "      <td>yes</td>\n",
       "      <td>no</td>\n",
       "      <td>cellular</td>\n",
       "      <td>nov</td>\n",
       "      <td>thu</td>\n",
       "      <td>255</td>\n",
       "      <td>2</td>\n",
       "      <td>999</td>\n",
       "      <td>0</td>\n",
       "      <td>nonexistent</td>\n",
       "      <td>-0.1</td>\n",
       "      <td>93.200</td>\n",
       "      <td>-42.0</td>\n",
       "      <td>4.076</td>\n",
       "      <td>5195.8</td>\n",
       "    </tr>\n",
       "    <tr>\n",
       "      <th>1</th>\n",
       "      <td>41</td>\n",
       "      <td>blue-collar</td>\n",
       "      <td>married</td>\n",
       "      <td>high.school</td>\n",
       "      <td>no</td>\n",
       "      <td>yes</td>\n",
       "      <td>no</td>\n",
       "      <td>cellular</td>\n",
       "      <td>nov</td>\n",
       "      <td>tue</td>\n",
       "      <td>77</td>\n",
       "      <td>1</td>\n",
       "      <td>999</td>\n",
       "      <td>0</td>\n",
       "      <td>nonexistent</td>\n",
       "      <td>-0.1</td>\n",
       "      <td>93.200</td>\n",
       "      <td>-42.0</td>\n",
       "      <td>4.153</td>\n",
       "      <td>5195.8</td>\n",
       "    </tr>\n",
       "    <tr>\n",
       "      <th>2</th>\n",
       "      <td>47</td>\n",
       "      <td>admin.</td>\n",
       "      <td>married</td>\n",
       "      <td>university.degree</td>\n",
       "      <td>no</td>\n",
       "      <td>no</td>\n",
       "      <td>no</td>\n",
       "      <td>cellular</td>\n",
       "      <td>aug</td>\n",
       "      <td>fri</td>\n",
       "      <td>451</td>\n",
       "      <td>2</td>\n",
       "      <td>999</td>\n",
       "      <td>0</td>\n",
       "      <td>nonexistent</td>\n",
       "      <td>1.4</td>\n",
       "      <td>93.444</td>\n",
       "      <td>-36.1</td>\n",
       "      <td>4.963</td>\n",
       "      <td>5228.1</td>\n",
       "    </tr>\n",
       "    <tr>\n",
       "      <th>3</th>\n",
       "      <td>31</td>\n",
       "      <td>housemaid</td>\n",
       "      <td>married</td>\n",
       "      <td>basic.4y</td>\n",
       "      <td>no</td>\n",
       "      <td>no</td>\n",
       "      <td>yes</td>\n",
       "      <td>cellular</td>\n",
       "      <td>aug</td>\n",
       "      <td>tue</td>\n",
       "      <td>129</td>\n",
       "      <td>6</td>\n",
       "      <td>999</td>\n",
       "      <td>0</td>\n",
       "      <td>nonexistent</td>\n",
       "      <td>1.4</td>\n",
       "      <td>93.444</td>\n",
       "      <td>-36.1</td>\n",
       "      <td>4.966</td>\n",
       "      <td>5228.1</td>\n",
       "    </tr>\n",
       "    <tr>\n",
       "      <th>4</th>\n",
       "      <td>47</td>\n",
       "      <td>blue-collar</td>\n",
       "      <td>married</td>\n",
       "      <td>unknown</td>\n",
       "      <td>no</td>\n",
       "      <td>yes</td>\n",
       "      <td>no</td>\n",
       "      <td>cellular</td>\n",
       "      <td>may</td>\n",
       "      <td>mon</td>\n",
       "      <td>100</td>\n",
       "      <td>1</td>\n",
       "      <td>999</td>\n",
       "      <td>0</td>\n",
       "      <td>nonexistent</td>\n",
       "      <td>-1.8</td>\n",
       "      <td>92.893</td>\n",
       "      <td>-46.2</td>\n",
       "      <td>1.299</td>\n",
       "      <td>5099.1</td>\n",
       "    </tr>\n",
       "  </tbody>\n",
       "</table>\n",
       "</div>"
      ],
      "text/plain": [
       "   age          job  marital          education  default housing loan  \\\n",
       "0   41     services  married        high.school  unknown     yes   no   \n",
       "1   41  blue-collar  married        high.school       no     yes   no   \n",
       "2   47       admin.  married  university.degree       no      no   no   \n",
       "3   31    housemaid  married           basic.4y       no      no  yes   \n",
       "4   47  blue-collar  married            unknown       no     yes   no   \n",
       "\n",
       "    contact month day_of_week  duration  campaign  pdays  previous  \\\n",
       "0  cellular   nov         thu       255         2    999         0   \n",
       "1  cellular   nov         tue        77         1    999         0   \n",
       "2  cellular   aug         fri       451         2    999         0   \n",
       "3  cellular   aug         tue       129         6    999         0   \n",
       "4  cellular   may         mon       100         1    999         0   \n",
       "\n",
       "      poutcome  emp.var.rate  cons.price.idx  cons.conf.idx  euribor3m  \\\n",
       "0  nonexistent          -0.1          93.200          -42.0      4.076   \n",
       "1  nonexistent          -0.1          93.200          -42.0      4.153   \n",
       "2  nonexistent           1.4          93.444          -36.1      4.963   \n",
       "3  nonexistent           1.4          93.444          -36.1      4.966   \n",
       "4  nonexistent          -1.8          92.893          -46.2      1.299   \n",
       "\n",
       "   nr.employed  \n",
       "0       5195.8  \n",
       "1       5195.8  \n",
       "2       5228.1  \n",
       "3       5228.1  \n",
       "4       5099.1  "
      ]
     },
     "execution_count": 23,
     "metadata": {},
     "output_type": "execute_result"
    }
   ],
   "source": [
    "# Read the test dataset\n",
    "test_df= pd.read_csv('test.csv', header=0)\n",
    "# Store the true labels for latter use\n",
    "labels = test_df['y'].values\n",
    "# Drop the target column\n",
    "test_df.drop('y', axis=1, inplace=True)\n",
    "test_df.head(5)"
   ]
  },
  {
   "cell_type": "code",
   "execution_count": 43,
   "metadata": {},
   "outputs": [
    {
     "data": {
      "text/html": [
       "<div>\n",
       "<style scoped>\n",
       "    .dataframe tbody tr th:only-of-type {\n",
       "        vertical-align: middle;\n",
       "    }\n",
       "\n",
       "    .dataframe tbody tr th {\n",
       "        vertical-align: top;\n",
       "    }\n",
       "\n",
       "    .dataframe thead th {\n",
       "        text-align: right;\n",
       "    }\n",
       "</style>\n",
       "<table border=\"1\" class=\"dataframe\">\n",
       "  <thead>\n",
       "    <tr style=\"text-align: right;\">\n",
       "      <th></th>\n",
       "      <th>age</th>\n",
       "      <th>job</th>\n",
       "      <th>marital</th>\n",
       "      <th>education</th>\n",
       "      <th>default</th>\n",
       "      <th>housing</th>\n",
       "      <th>loan</th>\n",
       "      <th>contact</th>\n",
       "      <th>month</th>\n",
       "      <th>day_of_week</th>\n",
       "      <th>duration</th>\n",
       "      <th>campaign</th>\n",
       "      <th>pdays</th>\n",
       "      <th>previous</th>\n",
       "      <th>poutcome</th>\n",
       "      <th>emp.var.rate</th>\n",
       "      <th>cons.price.idx</th>\n",
       "      <th>cons.conf.idx</th>\n",
       "      <th>euribor3m</th>\n",
       "      <th>nr.employed</th>\n",
       "    </tr>\n",
       "  </thead>\n",
       "  <tbody>\n",
       "    <tr>\n",
       "      <th>0</th>\n",
       "      <td>41</td>\n",
       "      <td>services</td>\n",
       "      <td>married</td>\n",
       "      <td>high.school</td>\n",
       "      <td>unknown</td>\n",
       "      <td>yes</td>\n",
       "      <td>no</td>\n",
       "      <td>cellular</td>\n",
       "      <td>nov</td>\n",
       "      <td>thu</td>\n",
       "      <td>255</td>\n",
       "      <td>2</td>\n",
       "      <td>999</td>\n",
       "      <td>0</td>\n",
       "      <td>nonexistent</td>\n",
       "      <td>-0.1</td>\n",
       "      <td>93.200</td>\n",
       "      <td>-42.0</td>\n",
       "      <td>4.076</td>\n",
       "      <td>5195.8</td>\n",
       "    </tr>\n",
       "    <tr>\n",
       "      <th>1</th>\n",
       "      <td>41</td>\n",
       "      <td>blue-collar</td>\n",
       "      <td>married</td>\n",
       "      <td>high.school</td>\n",
       "      <td>no</td>\n",
       "      <td>yes</td>\n",
       "      <td>no</td>\n",
       "      <td>cellular</td>\n",
       "      <td>nov</td>\n",
       "      <td>tue</td>\n",
       "      <td>77</td>\n",
       "      <td>1</td>\n",
       "      <td>999</td>\n",
       "      <td>0</td>\n",
       "      <td>nonexistent</td>\n",
       "      <td>-0.1</td>\n",
       "      <td>93.200</td>\n",
       "      <td>-42.0</td>\n",
       "      <td>4.153</td>\n",
       "      <td>5195.8</td>\n",
       "    </tr>\n",
       "    <tr>\n",
       "      <th>2</th>\n",
       "      <td>47</td>\n",
       "      <td>admin.</td>\n",
       "      <td>married</td>\n",
       "      <td>university.degree</td>\n",
       "      <td>no</td>\n",
       "      <td>no</td>\n",
       "      <td>no</td>\n",
       "      <td>cellular</td>\n",
       "      <td>aug</td>\n",
       "      <td>fri</td>\n",
       "      <td>451</td>\n",
       "      <td>2</td>\n",
       "      <td>999</td>\n",
       "      <td>0</td>\n",
       "      <td>nonexistent</td>\n",
       "      <td>1.4</td>\n",
       "      <td>93.444</td>\n",
       "      <td>-36.1</td>\n",
       "      <td>4.963</td>\n",
       "      <td>5228.1</td>\n",
       "    </tr>\n",
       "    <tr>\n",
       "      <th>3</th>\n",
       "      <td>31</td>\n",
       "      <td>housemaid</td>\n",
       "      <td>married</td>\n",
       "      <td>basic.4y</td>\n",
       "      <td>no</td>\n",
       "      <td>no</td>\n",
       "      <td>yes</td>\n",
       "      <td>cellular</td>\n",
       "      <td>aug</td>\n",
       "      <td>tue</td>\n",
       "      <td>129</td>\n",
       "      <td>6</td>\n",
       "      <td>999</td>\n",
       "      <td>0</td>\n",
       "      <td>nonexistent</td>\n",
       "      <td>1.4</td>\n",
       "      <td>93.444</td>\n",
       "      <td>-36.1</td>\n",
       "      <td>4.966</td>\n",
       "      <td>5228.1</td>\n",
       "    </tr>\n",
       "    <tr>\n",
       "      <th>4</th>\n",
       "      <td>47</td>\n",
       "      <td>blue-collar</td>\n",
       "      <td>married</td>\n",
       "      <td>unknown</td>\n",
       "      <td>no</td>\n",
       "      <td>yes</td>\n",
       "      <td>no</td>\n",
       "      <td>cellular</td>\n",
       "      <td>may</td>\n",
       "      <td>mon</td>\n",
       "      <td>100</td>\n",
       "      <td>1</td>\n",
       "      <td>999</td>\n",
       "      <td>0</td>\n",
       "      <td>nonexistent</td>\n",
       "      <td>-1.8</td>\n",
       "      <td>92.893</td>\n",
       "      <td>-46.2</td>\n",
       "      <td>1.299</td>\n",
       "      <td>5099.1</td>\n",
       "    </tr>\n",
       "    <tr>\n",
       "      <th>...</th>\n",
       "      <td>...</td>\n",
       "      <td>...</td>\n",
       "      <td>...</td>\n",
       "      <td>...</td>\n",
       "      <td>...</td>\n",
       "      <td>...</td>\n",
       "      <td>...</td>\n",
       "      <td>...</td>\n",
       "      <td>...</td>\n",
       "      <td>...</td>\n",
       "      <td>...</td>\n",
       "      <td>...</td>\n",
       "      <td>...</td>\n",
       "      <td>...</td>\n",
       "      <td>...</td>\n",
       "      <td>...</td>\n",
       "      <td>...</td>\n",
       "      <td>...</td>\n",
       "      <td>...</td>\n",
       "      <td>...</td>\n",
       "    </tr>\n",
       "    <tr>\n",
       "      <th>1995</th>\n",
       "      <td>51</td>\n",
       "      <td>services</td>\n",
       "      <td>divorced</td>\n",
       "      <td>basic.6y</td>\n",
       "      <td>unknown</td>\n",
       "      <td>no</td>\n",
       "      <td>yes</td>\n",
       "      <td>telephone</td>\n",
       "      <td>may</td>\n",
       "      <td>wed</td>\n",
       "      <td>114</td>\n",
       "      <td>3</td>\n",
       "      <td>999</td>\n",
       "      <td>0</td>\n",
       "      <td>nonexistent</td>\n",
       "      <td>1.1</td>\n",
       "      <td>93.994</td>\n",
       "      <td>-36.4</td>\n",
       "      <td>4.856</td>\n",
       "      <td>5191.0</td>\n",
       "    </tr>\n",
       "    <tr>\n",
       "      <th>1996</th>\n",
       "      <td>36</td>\n",
       "      <td>blue-collar</td>\n",
       "      <td>single</td>\n",
       "      <td>basic.4y</td>\n",
       "      <td>no</td>\n",
       "      <td>yes</td>\n",
       "      <td>no</td>\n",
       "      <td>telephone</td>\n",
       "      <td>may</td>\n",
       "      <td>mon</td>\n",
       "      <td>143</td>\n",
       "      <td>4</td>\n",
       "      <td>999</td>\n",
       "      <td>0</td>\n",
       "      <td>nonexistent</td>\n",
       "      <td>1.1</td>\n",
       "      <td>93.994</td>\n",
       "      <td>-36.4</td>\n",
       "      <td>4.857</td>\n",
       "      <td>5191.0</td>\n",
       "    </tr>\n",
       "    <tr>\n",
       "      <th>1997</th>\n",
       "      <td>37</td>\n",
       "      <td>technician</td>\n",
       "      <td>single</td>\n",
       "      <td>high.school</td>\n",
       "      <td>no</td>\n",
       "      <td>yes</td>\n",
       "      <td>no</td>\n",
       "      <td>cellular</td>\n",
       "      <td>apr</td>\n",
       "      <td>thu</td>\n",
       "      <td>44</td>\n",
       "      <td>2</td>\n",
       "      <td>999</td>\n",
       "      <td>0</td>\n",
       "      <td>nonexistent</td>\n",
       "      <td>-1.8</td>\n",
       "      <td>93.075</td>\n",
       "      <td>-47.1</td>\n",
       "      <td>1.410</td>\n",
       "      <td>5099.1</td>\n",
       "    </tr>\n",
       "    <tr>\n",
       "      <th>1998</th>\n",
       "      <td>30</td>\n",
       "      <td>student</td>\n",
       "      <td>single</td>\n",
       "      <td>professional.course</td>\n",
       "      <td>no</td>\n",
       "      <td>yes</td>\n",
       "      <td>no</td>\n",
       "      <td>cellular</td>\n",
       "      <td>sep</td>\n",
       "      <td>mon</td>\n",
       "      <td>1616</td>\n",
       "      <td>4</td>\n",
       "      <td>19</td>\n",
       "      <td>1</td>\n",
       "      <td>success</td>\n",
       "      <td>-1.1</td>\n",
       "      <td>94.199</td>\n",
       "      <td>-37.5</td>\n",
       "      <td>0.879</td>\n",
       "      <td>4963.6</td>\n",
       "    </tr>\n",
       "    <tr>\n",
       "      <th>1999</th>\n",
       "      <td>33</td>\n",
       "      <td>admin.</td>\n",
       "      <td>single</td>\n",
       "      <td>university.degree</td>\n",
       "      <td>no</td>\n",
       "      <td>yes</td>\n",
       "      <td>no</td>\n",
       "      <td>cellular</td>\n",
       "      <td>apr</td>\n",
       "      <td>thu</td>\n",
       "      <td>280</td>\n",
       "      <td>1</td>\n",
       "      <td>7</td>\n",
       "      <td>2</td>\n",
       "      <td>success</td>\n",
       "      <td>-1.8</td>\n",
       "      <td>93.749</td>\n",
       "      <td>-34.6</td>\n",
       "      <td>0.635</td>\n",
       "      <td>5008.7</td>\n",
       "    </tr>\n",
       "  </tbody>\n",
       "</table>\n",
       "<p>2000 rows × 20 columns</p>\n",
       "</div>"
      ],
      "text/plain": [
       "      age          job   marital            education  default housing loan  \\\n",
       "0      41     services   married          high.school  unknown     yes   no   \n",
       "1      41  blue-collar   married          high.school       no     yes   no   \n",
       "2      47       admin.   married    university.degree       no      no   no   \n",
       "3      31    housemaid   married             basic.4y       no      no  yes   \n",
       "4      47  blue-collar   married              unknown       no     yes   no   \n",
       "...   ...          ...       ...                  ...      ...     ...  ...   \n",
       "1995   51     services  divorced             basic.6y  unknown      no  yes   \n",
       "1996   36  blue-collar    single             basic.4y       no     yes   no   \n",
       "1997   37   technician    single          high.school       no     yes   no   \n",
       "1998   30      student    single  professional.course       no     yes   no   \n",
       "1999   33       admin.    single    university.degree       no     yes   no   \n",
       "\n",
       "        contact month day_of_week  duration  campaign  pdays  previous  \\\n",
       "0      cellular   nov         thu       255         2    999         0   \n",
       "1      cellular   nov         tue        77         1    999         0   \n",
       "2      cellular   aug         fri       451         2    999         0   \n",
       "3      cellular   aug         tue       129         6    999         0   \n",
       "4      cellular   may         mon       100         1    999         0   \n",
       "...         ...   ...         ...       ...       ...    ...       ...   \n",
       "1995  telephone   may         wed       114         3    999         0   \n",
       "1996  telephone   may         mon       143         4    999         0   \n",
       "1997   cellular   apr         thu        44         2    999         0   \n",
       "1998   cellular   sep         mon      1616         4     19         1   \n",
       "1999   cellular   apr         thu       280         1      7         2   \n",
       "\n",
       "         poutcome  emp.var.rate  cons.price.idx  cons.conf.idx  euribor3m  \\\n",
       "0     nonexistent          -0.1          93.200          -42.0      4.076   \n",
       "1     nonexistent          -0.1          93.200          -42.0      4.153   \n",
       "2     nonexistent           1.4          93.444          -36.1      4.963   \n",
       "3     nonexistent           1.4          93.444          -36.1      4.966   \n",
       "4     nonexistent          -1.8          92.893          -46.2      1.299   \n",
       "...           ...           ...             ...            ...        ...   \n",
       "1995  nonexistent           1.1          93.994          -36.4      4.856   \n",
       "1996  nonexistent           1.1          93.994          -36.4      4.857   \n",
       "1997  nonexistent          -1.8          93.075          -47.1      1.410   \n",
       "1998      success          -1.1          94.199          -37.5      0.879   \n",
       "1999      success          -1.8          93.749          -34.6      0.635   \n",
       "\n",
       "      nr.employed  \n",
       "0          5195.8  \n",
       "1          5195.8  \n",
       "2          5228.1  \n",
       "3          5228.1  \n",
       "4          5099.1  \n",
       "...           ...  \n",
       "1995       5191.0  \n",
       "1996       5191.0  \n",
       "1997       5099.1  \n",
       "1998       4963.6  \n",
       "1999       5008.7  \n",
       "\n",
       "[2000 rows x 20 columns]"
      ]
     },
     "execution_count": 43,
     "metadata": {},
     "output_type": "execute_result"
    }
   ],
   "source": [
    "# Select just a bunch of examples to test if needed\n",
    "#test_df = test_df[:2000]\n",
    "#test_df"
   ]
  },
  {
   "cell_type": "markdown",
   "metadata": {},
   "source": [
    "To invoke the endpoint deployed, we will call the boto3 package to invoke the endpoint just deployed."
   ]
  },
  {
   "cell_type": "code",
   "execution_count": 24,
   "metadata": {},
   "outputs": [],
   "source": [
    "import io\n",
    "#Using Boto3\n",
    "import boto3\n",
    "#Create a sm runtime\n",
    "sm_runtime = boto3.client(\"sagemaker-runtime\")\n",
    "#Create a payload\n",
    "payload = io.StringIO()\n",
    "# Move the test_df dataframe to \n",
    "test_df.to_csv(payload, header=None, index=None)\n",
    "# Invoke the endpoint to get the predictions\n",
    "response = sm_runtime.invoke_endpoint(\n",
    "    EndpointName=endpoint_name,\n",
    "    Body=payload.getvalue(),\n",
    "    ContentType='text/csv',\n",
    "    Accept='text/csv')"
   ]
  },
  {
   "cell_type": "markdown",
   "metadata": {},
   "source": [
    "Decode the response to extract the predictions"
   ]
  },
  {
   "cell_type": "code",
   "execution_count": 25,
   "metadata": {},
   "outputs": [
    {
     "data": {
      "text/plain": [
       "3090"
      ]
     },
     "execution_count": 25,
     "metadata": {},
     "output_type": "execute_result"
    }
   ],
   "source": [
    "# Decode the response and split into a list \n",
    "response_body =response[\"Body\"].read().decode(\"utf-8\")\n",
    "preds = response_body.split('\\n')\n",
    "# We must discard the last element of the list, it is just an empty string\n",
    "preds=preds[:-1]\n",
    "len(preds)"
   ]
  },
  {
   "cell_type": "markdown",
   "metadata": {},
   "source": [
    "Plot the confussion matrix and calculate the evaluation metrics to check the performance of the model on the test dataset"
   ]
  },
  {
   "cell_type": "code",
   "execution_count": 30,
   "metadata": {},
   "outputs": [
    {
     "name": "stdout",
     "output_type": "stream",
     "text": [
      "              precision    recall  f1-score   support\n",
      "\n",
      "          no       0.98      0.91      0.94      2742\n",
      "         yes       0.54      0.86      0.66       348\n",
      "\n",
      "    accuracy                           0.90      3090\n",
      "   macro avg       0.76      0.88      0.80      3090\n",
      "weighted avg       0.93      0.90      0.91      3090\n",
      "\n"
     ]
    },
    {
     "data": {
      "text/plain": [
       "<sklearn.metrics._plot.confusion_matrix.ConfusionMatrixDisplay at 0x7f7435c9d090>"
      ]
     },
     "execution_count": 30,
     "metadata": {},
     "output_type": "execute_result"
    },
    {
     "data": {
      "image/png": "[encoded data removed]",
      "text/plain": [
       "<Figure size 432x288 with 2 Axes>"
      ]
     },
     "metadata": {
      "image/png": {
       "height": 261,
       "width": 319
      },
      "needs_background": "light"
     },
     "output_type": "display_data"
    }
   ],
   "source": [
    "from sklearn.metrics import classification_report\n",
    "from sklearn.metrics import confusion_matrix, ConfusionMatrixDisplay\n",
    "# Get the metrics of our evaluation \n",
    "print(classification_report(labels, preds))\n",
    "# Calculate the confussion matrix\n",
    "cm = confusion_matrix(labels, preds) #, labels=['n','y'])\n",
    "disp = ConfusionMatrixDisplay(confusion_matrix=cm, display_labels=['n','y'])\n",
    "disp.plot(values_format='d') "
   ]
  },
  {
   "cell_type": "markdown",
   "metadata": {},
   "source": [
    "We can see that the metrics for the mayority class are extremely high but for the minority class, precision is very bad. It looks lke AutoPilot does not take care of this issue, for unbalanced datasets we should apply some techniques to fix this situation before executing the AutoML project.\n",
    "\n",
    "We show the confussion matrix, FP (False positives) are very high but the results are good."
   ]
  },
  {
   "cell_type": "markdown",
   "metadata": {},
   "source": [
    "## Deleting the endpoint¶\n",
    "Now, we can delete the endpoint (and stop paying for it). **Be sure to execute this step!!**"
   ]
  },
  {
   "cell_type": "code",
   "execution_count": 32,
   "metadata": {},
   "outputs": [],
   "source": [
    "sess.delete_endpoint(endpoint_name)"
   ]
  },
  {
   "cell_type": "code",
   "execution_count": null,
   "metadata": {},
   "outputs": [],
   "source": []
  }
 ],
 "metadata": {
  "instance_type": "ml.t3.medium",
  "kernelspec": {
   "display_name": "Python 3 (Data Science)",
   "language": "python",
   "name": "python3__SAGEMAKER_INTERNAL__arn:aws:sagemaker:us-east-2:429704687514:image/datascience-1.0"
  },
  "language_info": {
   "codemirror_mode": {
    "name": "ipython",
    "version": 3
   },
   "file_extension": ".py",
   "mimetype": "text/x-python",
   "name": "python",
   "nbconvert_exporter": "python",
   "pygments_lexer": "ipython3",
   "version": "3.7.10"
  }
 },
 "nbformat": 4,
 "nbformat_minor": 4
}
